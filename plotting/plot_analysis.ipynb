{
 "cells": [
  {
   "cell_type": "code",
   "execution_count": 1,
   "metadata": {},
   "outputs": [],
   "source": [
    "import numpy as np\n",
    "import matplotlib.pyplot as plt\n",
    "import tensorflow as tf\n",
    "import json\n",
    "from common_module import *\n",
    "from plotting_module import *\n",
    "import warnings"
   ]
  },
  {
   "cell_type": "code",
   "execution_count": 2,
   "metadata": {},
   "outputs": [],
   "source": [
    "%matplotlib qt\n",
    "\n",
    "set_matplotlib_defaults()\n",
    "\n",
    "warnings.filterwarnings('ignore')"
   ]
  },
  {
   "cell_type": "code",
   "execution_count": 3,
   "metadata": {},
   "outputs": [
    {
     "data": {
      "text/plain": [
       "{'R_lc': 16.67,\n",
       " 'r_c': 16.5033,\n",
       " 'Pc_mode': 'free',\n",
       " 'Pc_fixed': 0.075284943,\n",
       " 'coordinates': 'spherical',\n",
       " 'n_1': 500,\n",
       " 'n_2': 500,\n",
       " 'extent': 3}"
      ]
     },
     "execution_count": 3,
     "metadata": {},
     "output_type": "execute_result"
    }
   ],
   "source": [
    "# Load trained network\n",
    "N_p_free = tf.keras.models.load_model(\"../data/N_P_free/Weights\", compile=False)\n",
    "N_t_free = tf.keras.models.load_model(\"../data/N_T_free/Weights\", compile=False)\n",
    "\n",
    "N_p_fixed = tf.keras.models.load_model(\"../data/N_P_fixed/Weights\", compile=False)\n",
    "N_t_fixed = tf.keras.models.load_model(\"../data/N_T_fixed/Weights\", compile=False)\n",
    "\n",
    "# Load parameters\n",
    "with open('../parameters.json', 'r') as f:\n",
    "   parameters = json.load(f)['parameters']\n",
    "\n",
    "parameters"
   ]
  },
  {
   "cell_type": "code",
   "execution_count": 4,
   "metadata": {},
   "outputs": [],
   "source": [
    "# Grid\n",
    "r, theta, q, mu, rho, z = get_grid(parameters)\n",
    "\n",
    "if parameters['coordinates'] == 'spherical':\n",
    "\n",
    "    x1, x2 = r, theta\n",
    "    X, Z = r*np.sin(theta), r*np.cos(theta)\n",
    "\n",
    "elif parameters['coordinates'] == 'compactified':\n",
    "\n",
    "    x1, x2 = q, mu\n",
    "    X, Z = np.sqrt(1 - mu **2) * q, mu * q\n",
    "\n",
    "elif parameters['coordinates'] == 'cylindrical':\n",
    "\n",
    "    x1, x2 = rho, z\n",
    "    X, Z = rho, z\n",
    "\n",
    "# PINN input\n",
    "X_test = generate_test (x1, x2, coordinates=parameters['coordinates'])"
   ]
  },
  {
   "cell_type": "code",
   "execution_count": 5,
   "metadata": {},
   "outputs": [],
   "source": [
    "P_free, Pc_free, T_free, Tprime_free = get_scalar_functions(X_test, N_p_free, N_t_free, {**parameters, 'Pc_mode':'free'})\n",
    "P_fixed, Pc_fixed, T_fixed, Tprime_fixed = get_scalar_functions(X_test, N_p_fixed, N_t_fixed, {**parameters, 'Pc_mode':'fixed'})"
   ]
  },
  {
   "cell_type": "code",
   "execution_count": 6,
   "metadata": {},
   "outputs": [],
   "source": [
    "B_1_free, B_2_free, B_3_free, \\\n",
    "E_1_free, E_2_free, E_3_free, \\\n",
    "B_mag_free, E_mag_free, B_pol_free, \\\n",
    "E_dot_B_free, div_B_free, div_E_free = get_fields (x1, x2, P_free, T_free, parameters)\n",
    "\n",
    "B_1_fixed, B_2_fixed, B_3_fixed, \\\n",
    "E_1_fixed, E_2_fixed, E_3_fixed, \\\n",
    "B_mag_fixed, E_mag_fixed, B_pol_fixed, \\\n",
    "E_dot_B_fixed, div_B_fixed, div_E_fixed = get_fields (x1, x2, P_fixed, T_fixed, parameters)"
   ]
  },
  {
   "cell_type": "code",
   "execution_count": 7,
   "metadata": {},
   "outputs": [],
   "source": [
    "def get_pinn (X, P, Pc, N_p, N_t, parameters):\n",
    "   \n",
    "   Np = N_p (X)[:,0].numpy().reshape([parameters['n_1'], parameters['n_2']])\n",
    "   Nt = N_t (tf.convert_to_tensor(P.ravel())).numpy().reshape([parameters['n_1'], parameters['n_2']])\n",
    "\n",
    "   fb = f_b (X, Pc, parameters['r_c']).numpy().reshape([parameters['n_1'], parameters['n_2']])\n",
    "   hb = h_b (X, parameters['r_c']).numpy().reshape([parameters['n_1'], parameters['n_2']])\n",
    "\n",
    "   return Np, Nt, fb, hb\n",
    "\n",
    "Np_free, Nt_free, fb_free, hb_free = get_pinn (X_test, P_free, Pc_free, N_p_free, N_t_free, {**parameters, 'Pc_mode':'free'})\n",
    "Np_fixed, Nt_fixed, fb_fixed, hb_fixed = get_pinn (X_test, P_fixed, Pc_fixed, N_p_fixed, N_t_fixed, {**parameters, 'Pc_mode':'fixed'})"
   ]
  },
  {
   "cell_type": "code",
   "execution_count": 8,
   "metadata": {},
   "outputs": [],
   "source": [
    "# plot_pinn (X, Z, P_free, Pc_free, fb_free, hb_free, Np_free, parameters)\n",
    "# plot_pinn (X, Z, P_fixed, Pc_fixed, fb_fixed, hb_fixed, Np_fixed, parameters)"
   ]
  },
  {
   "cell_type": "code",
   "execution_count": 9,
   "metadata": {},
   "outputs": [],
   "source": [
    "# plot_scalar_functions(X, Z, P_free, Pc_free, T_free, Tprime_free, parameters)\n",
    "# plot_scalar_functions(X, Z, P_fixed, Pc_fixed, T_fixed, Tprime_fixed, parameters)"
   ]
  },
  {
   "cell_type": "code",
   "execution_count": 10,
   "metadata": {},
   "outputs": [],
   "source": [
    "# plot_fields (X, Z, P_free, Pc_free, B_mag_free, E_mag_free, div_E_free, parameters)\n",
    "# plot_fields (X, Z, P_fixed, Pc_fixed, B_mag_fixed, E_mag_fixed, div_E_fixed, parameters)"
   ]
  },
  {
   "cell_type": "code",
   "execution_count": 26,
   "metadata": {},
   "outputs": [],
   "source": [
    "def plot_T_of_P (P, Pc, T, T_prime, parameters):\n",
    "    \n",
    "   fig, axes = plt.subplots(1, 3)\n",
    "\n",
    "   # Mask T_prime to hide divergent values due to numerical derivation\n",
    "   mask = np.abs(T_prime) < 0.15\n",
    "   T_prime_masked = np.where(mask, T_prime, np.nan)\n",
    "   \n",
    "   #Calculate monopole solution for normalisation and comparison\n",
    "   # P_mon = 1 / parameters['R_lc'] (1 - )\n",
    "   scalars = [-T, -T_prime_masked, T * T_prime_masked]\n",
    "   # scalars_monopole = [-T, -T_prime_masked, T * T_prime_masked]\n",
    "\n",
    "   for i, ax in enumerate(axes):\n",
    "      f = scalars[i].ravel()\n",
    "\n",
    "      ax.set_xlim([0, 1.1 * Pc])\n",
    "      ax.axvline(Pc, c='k', alpha=0.5, ls='--')\n",
    "\n",
    "      ax.scatter(P.ravel(), f, s=10, marker='*')\n",
    "\n",
    "   return"
   ]
  },
  {
   "cell_type": "code",
   "execution_count": 27,
   "metadata": {},
   "outputs": [],
   "source": [
    "plot_T_of_P (P_free, Pc_free, T_free, Tprime_free, parameters)\n",
    "plot_T_of_P (P_fixed, Pc_fixed, T_fixed, Tprime_fixed, parameters)"
   ]
  },
  {
   "cell_type": "code",
   "execution_count": 13,
   "metadata": {},
   "outputs": [
    {
     "data": {
      "text/plain": [
       "array([[0, 0, 2, 0, 4],\n",
       "       [0, 6, 0, 8, 0]])"
      ]
     },
     "execution_count": 13,
     "metadata": {},
     "output_type": "execute_result"
    }
   ],
   "source": [
    "x = np.arange(10).reshape((2,5))\n",
    "mask = x%2 == 0\n",
    "x_masked = np.where(mask, x, 0)\n",
    "x_masked"
   ]
  },
  {
   "cell_type": "code",
   "execution_count": null,
   "metadata": {},
   "outputs": [],
   "source": []
  }
 ],
 "metadata": {
  "kernelspec": {
   "display_name": "tf",
   "language": "python",
   "name": "python3"
  },
  "language_info": {
   "codemirror_mode": {
    "name": "ipython",
    "version": 3
   },
   "file_extension": ".py",
   "mimetype": "text/x-python",
   "name": "python",
   "nbconvert_exporter": "python",
   "pygments_lexer": "ipython3",
   "version": "3.9.15"
  },
  "orig_nbformat": 4
 },
 "nbformat": 4,
 "nbformat_minor": 2
}
