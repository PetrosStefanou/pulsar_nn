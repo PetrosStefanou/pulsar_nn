{
 "cells": [
  {
   "cell_type": "code",
   "execution_count": 1,
   "metadata": {},
   "outputs": [],
   "source": [
    "import numpy as np\n",
    "import matplotlib.pyplot as plt\n",
    "import tensorflow as tf\n",
    "import json\n",
    "from common_module import *\n",
    "from plotting_module import *\n",
    "import warnings"
   ]
  },
  {
   "cell_type": "code",
   "execution_count": 2,
   "metadata": {},
   "outputs": [],
   "source": [
    "%matplotlib qt\n",
    "\n",
    "set_matplotlib_defaults()\n",
    "\n",
    "warnings.filterwarnings('ignore')\n",
    "\n",
    "tf.keras.backend.set_floatx('float64')"
   ]
  },
  {
   "cell_type": "code",
   "execution_count": 3,
   "metadata": {},
   "outputs": [
    {
     "data": {
      "text/plain": [
       "{'R_lc': 16.67,\n",
       " 'r_c': 13.336,\n",
       " 'Pc_mode': 'free',\n",
       " 'Pc_fixed': 0.075284943,\n",
       " 'sep_width': 0.005,\n",
       " 'coordinates': 'spherical',\n",
       " 'n_1': 500,\n",
       " 'n_2': 500,\n",
       " 'extent': 3,\n",
       " 'deriv_mode': 'automatic'}"
      ]
     },
     "execution_count": 3,
     "metadata": {},
     "output_type": "execute_result"
    }
   ],
   "source": [
    "# Load parameters\n",
    "with open('../parameters.json', 'r') as f:\n",
    "   parameters = json.load(f)['parameters']\n",
    "\n",
    "parameters"
   ]
  },
  {
   "cell_type": "code",
   "execution_count": 4,
   "metadata": {},
   "outputs": [],
   "source": [
    "# Grid\n",
    "r, theta, q, mu, rho, z = get_grid(parameters)\n",
    "\n",
    "if parameters['coordinates'] == 'spherical':\n",
    "\n",
    "    x1, x2 = r, theta\n",
    "    X, Z = r*np.sin(theta), r*np.cos(theta)\n",
    "\n",
    "elif parameters['coordinates'] == 'compactified':\n",
    "\n",
    "    x1, x2 = q, mu\n",
    "    X, Z = np.sqrt(1 - mu **2) * q, mu * q\n",
    "\n",
    "elif parameters['coordinates'] == 'cylindrical':\n",
    "\n",
    "    x1, x2 = rho, z\n",
    "    X, Z = rho, z\n",
    "\n",
    "# PINN input\n",
    "X_test = generate_test (x1, x2, parameters)"
   ]
  },
  {
   "cell_type": "code",
   "execution_count": 5,
   "metadata": {},
   "outputs": [],
   "source": [
    "# Load trained network\n",
    "tf.keras.utils.get_custom_objects()['AdaptiveActivation'] = AdaptiveActivation\n",
    "N_p = tf.keras.models.load_model(\"../data/N_P.h5\", compile=False)\n",
    "N_t = tf.keras.models.load_model(\"../data/N_T.h5\", compile=False)\n",
    "\n",
    "\n",
    "# Calculate the scalar functions\n",
    "P, Pc, T, T_prime = get_scalar_functions(X_test, N_p, N_t, parameters)\n",
    "\n",
    "# Calculate the elements of the parametrisation\n",
    "Np, Nt, fb, hb = get_pinn (X_test, P, Pc, N_p, N_t, parameters)\n",
    "\n",
    "# Calculate magnetic and electric fields and related quantities\n",
    "B_1, B_2, B_3, \\\n",
    "E_1, E_2, E_3, \\\n",
    "B_mag, E_mag, B_pol, \\\n",
    "E_dot_B, div_B, div_E = get_fields (x1, x2, P, T, parameters)\n",
    "\n",
    "# Calculate the Pulsar Equation\n",
    "pulsar_eq = pulsar_equation (x1, x2, P, T, T_prime, parameters)"
   ]
  },
  {
   "cell_type": "code",
   "execution_count": 6,
   "metadata": {},
   "outputs": [],
   "source": [
    "# Generate analysis plots\n",
    "plot_scalar_functions(X, Z, P, Pc, T, T_prime, parameters)\n",
    "plot_pinn (X, Z, P, Pc, fb, hb, Np, parameters)\n",
    "plot_fields (X, Z, P, Pc, B_mag, E_mag, div_E, parameters)\n",
    "plot_pulsar_equation(X, Z, pulsar_eq, P, Pc, parameters)\n",
    "plot_T_of_P (P, Pc, T, T_prime, parameters)"
   ]
  },
  {
   "cell_type": "code",
   "execution_count": 7,
   "metadata": {},
   "outputs": [
    {
     "name": "stdout",
     "output_type": "stream",
     "text": [
      "0.10004350989337035\n"
     ]
    }
   ],
   "source": [
    "print(Pc)"
   ]
  },
  {
   "cell_type": "code",
   "execution_count": 8,
   "metadata": {},
   "outputs": [
    {
     "name": "stdout",
     "output_type": "stream",
     "text": [
      "tf.Tensor([  1.      10.5625  30.25    60.0625 100.    ], shape=(5,), dtype=float64) tf.Tensor([2. 2. 2. 2. 2.], shape=(5,), dtype=float64)\n"
     ]
    }
   ],
   "source": [
    "bla = np.linspace(1,10,5)\n",
    "bla = tf.convert_to_tensor(bla)\n",
    "with tf.GradientTape(persistent=True) as gt:\n",
    "   gt.watch(bla)\n",
    "   y = bla**2\n",
    "   z = 2 * y\n",
    "\n",
    "dy = gt.gradient(y, bla)\n",
    "dz = gt.gradient(z, bla)\n",
    "dzdy = gt.gradient (z, y)\n",
    "print(y, dzdy)"
   ]
  },
  {
   "cell_type": "code",
   "execution_count": null,
   "metadata": {},
   "outputs": [],
   "source": []
  }
 ],
 "metadata": {
  "kernelspec": {
   "display_name": "tf",
   "language": "python",
   "name": "python3"
  },
  "language_info": {
   "codemirror_mode": {
    "name": "ipython",
    "version": 3
   },
   "file_extension": ".py",
   "mimetype": "text/x-python",
   "name": "python",
   "nbconvert_exporter": "python",
   "pygments_lexer": "ipython3",
   "version": "3.9.15"
  },
  "orig_nbformat": 4
 },
 "nbformat": 4,
 "nbformat_minor": 2
}
